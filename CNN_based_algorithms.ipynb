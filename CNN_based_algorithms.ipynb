{
  "nbformat": 4,
  "nbformat_minor": 0,
  "metadata": {
    "colab": {
      "provenance": []
    },
    "kernelspec": {
      "name": "python3",
      "display_name": "Python 3"
    },
    "language_info": {
      "name": "python"
    },
    "accelerator": "GPU",
    "gpuClass": "standard",
    "widgets": {
      "application/vnd.jupyter.widget-state+json": {
        "2ab2ab79058546e5ae6648fc27471629": {
          "model_module": "@jupyter-widgets/controls",
          "model_name": "HBoxModel",
          "model_module_version": "1.5.0",
          "state": {
            "_dom_classes": [],
            "_model_module": "@jupyter-widgets/controls",
            "_model_module_version": "1.5.0",
            "_model_name": "HBoxModel",
            "_view_count": null,
            "_view_module": "@jupyter-widgets/controls",
            "_view_module_version": "1.5.0",
            "_view_name": "HBoxView",
            "box_style": "",
            "children": [
              "IPY_MODEL_c657848460904953a1041e1241bbf1d4",
              "IPY_MODEL_131b6ba8ccdf4976988182cc00edf3f3",
              "IPY_MODEL_b64ba5b267bb4de693e6a974ce0f6ab0"
            ],
            "layout": "IPY_MODEL_563a5ead5c0345389c72a786be7b1414"
          }
        },
        "c657848460904953a1041e1241bbf1d4": {
          "model_module": "@jupyter-widgets/controls",
          "model_name": "HTMLModel",
          "model_module_version": "1.5.0",
          "state": {
            "_dom_classes": [],
            "_model_module": "@jupyter-widgets/controls",
            "_model_module_version": "1.5.0",
            "_model_name": "HTMLModel",
            "_view_count": null,
            "_view_module": "@jupyter-widgets/controls",
            "_view_module_version": "1.5.0",
            "_view_name": "HTMLView",
            "description": "",
            "description_tooltip": null,
            "layout": "IPY_MODEL_8c73b76c14b04dc1975487bd01513dda",
            "placeholder": "​",
            "style": "IPY_MODEL_b836524b0c9946d484fd6e25b2815a5b",
            "value": "100%"
          }
        },
        "131b6ba8ccdf4976988182cc00edf3f3": {
          "model_module": "@jupyter-widgets/controls",
          "model_name": "FloatProgressModel",
          "model_module_version": "1.5.0",
          "state": {
            "_dom_classes": [],
            "_model_module": "@jupyter-widgets/controls",
            "_model_module_version": "1.5.0",
            "_model_name": "FloatProgressModel",
            "_view_count": null,
            "_view_module": "@jupyter-widgets/controls",
            "_view_module_version": "1.5.0",
            "_view_name": "ProgressView",
            "bar_style": "success",
            "description": "",
            "description_tooltip": null,
            "layout": "IPY_MODEL_ede54270df2148c686cba382e8668f36",
            "max": 108949747,
            "min": 0,
            "orientation": "horizontal",
            "style": "IPY_MODEL_c663acbc1d154391b9f7aed18fa53f8f",
            "value": 108949747
          }
        },
        "b64ba5b267bb4de693e6a974ce0f6ab0": {
          "model_module": "@jupyter-widgets/controls",
          "model_name": "HTMLModel",
          "model_module_version": "1.5.0",
          "state": {
            "_dom_classes": [],
            "_model_module": "@jupyter-widgets/controls",
            "_model_module_version": "1.5.0",
            "_model_name": "HTMLModel",
            "_view_count": null,
            "_view_module": "@jupyter-widgets/controls",
            "_view_module_version": "1.5.0",
            "_view_name": "HTMLView",
            "description": "",
            "description_tooltip": null,
            "layout": "IPY_MODEL_3827856d66aa4fceb21c04a88a4b71c5",
            "placeholder": "​",
            "style": "IPY_MODEL_33751af9be36460799a568445c5a78c7",
            "value": " 104M/104M [00:01&lt;00:00, 173MB/s]"
          }
        },
        "563a5ead5c0345389c72a786be7b1414": {
          "model_module": "@jupyter-widgets/base",
          "model_name": "LayoutModel",
          "model_module_version": "1.2.0",
          "state": {
            "_model_module": "@jupyter-widgets/base",
            "_model_module_version": "1.2.0",
            "_model_name": "LayoutModel",
            "_view_count": null,
            "_view_module": "@jupyter-widgets/base",
            "_view_module_version": "1.2.0",
            "_view_name": "LayoutView",
            "align_content": null,
            "align_items": null,
            "align_self": null,
            "border": null,
            "bottom": null,
            "display": null,
            "flex": null,
            "flex_flow": null,
            "grid_area": null,
            "grid_auto_columns": null,
            "grid_auto_flow": null,
            "grid_auto_rows": null,
            "grid_column": null,
            "grid_gap": null,
            "grid_row": null,
            "grid_template_areas": null,
            "grid_template_columns": null,
            "grid_template_rows": null,
            "height": null,
            "justify_content": null,
            "justify_items": null,
            "left": null,
            "margin": null,
            "max_height": null,
            "max_width": null,
            "min_height": null,
            "min_width": null,
            "object_fit": null,
            "object_position": null,
            "order": null,
            "overflow": null,
            "overflow_x": null,
            "overflow_y": null,
            "padding": null,
            "right": null,
            "top": null,
            "visibility": null,
            "width": null
          }
        },
        "8c73b76c14b04dc1975487bd01513dda": {
          "model_module": "@jupyter-widgets/base",
          "model_name": "LayoutModel",
          "model_module_version": "1.2.0",
          "state": {
            "_model_module": "@jupyter-widgets/base",
            "_model_module_version": "1.2.0",
            "_model_name": "LayoutModel",
            "_view_count": null,
            "_view_module": "@jupyter-widgets/base",
            "_view_module_version": "1.2.0",
            "_view_name": "LayoutView",
            "align_content": null,
            "align_items": null,
            "align_self": null,
            "border": null,
            "bottom": null,
            "display": null,
            "flex": null,
            "flex_flow": null,
            "grid_area": null,
            "grid_auto_columns": null,
            "grid_auto_flow": null,
            "grid_auto_rows": null,
            "grid_column": null,
            "grid_gap": null,
            "grid_row": null,
            "grid_template_areas": null,
            "grid_template_columns": null,
            "grid_template_rows": null,
            "height": null,
            "justify_content": null,
            "justify_items": null,
            "left": null,
            "margin": null,
            "max_height": null,
            "max_width": null,
            "min_height": null,
            "min_width": null,
            "object_fit": null,
            "object_position": null,
            "order": null,
            "overflow": null,
            "overflow_x": null,
            "overflow_y": null,
            "padding": null,
            "right": null,
            "top": null,
            "visibility": null,
            "width": null
          }
        },
        "b836524b0c9946d484fd6e25b2815a5b": {
          "model_module": "@jupyter-widgets/controls",
          "model_name": "DescriptionStyleModel",
          "model_module_version": "1.5.0",
          "state": {
            "_model_module": "@jupyter-widgets/controls",
            "_model_module_version": "1.5.0",
            "_model_name": "DescriptionStyleModel",
            "_view_count": null,
            "_view_module": "@jupyter-widgets/base",
            "_view_module_version": "1.2.0",
            "_view_name": "StyleView",
            "description_width": ""
          }
        },
        "ede54270df2148c686cba382e8668f36": {
          "model_module": "@jupyter-widgets/base",
          "model_name": "LayoutModel",
          "model_module_version": "1.2.0",
          "state": {
            "_model_module": "@jupyter-widgets/base",
            "_model_module_version": "1.2.0",
            "_model_name": "LayoutModel",
            "_view_count": null,
            "_view_module": "@jupyter-widgets/base",
            "_view_module_version": "1.2.0",
            "_view_name": "LayoutView",
            "align_content": null,
            "align_items": null,
            "align_self": null,
            "border": null,
            "bottom": null,
            "display": null,
            "flex": null,
            "flex_flow": null,
            "grid_area": null,
            "grid_auto_columns": null,
            "grid_auto_flow": null,
            "grid_auto_rows": null,
            "grid_column": null,
            "grid_gap": null,
            "grid_row": null,
            "grid_template_areas": null,
            "grid_template_columns": null,
            "grid_template_rows": null,
            "height": null,
            "justify_content": null,
            "justify_items": null,
            "left": null,
            "margin": null,
            "max_height": null,
            "max_width": null,
            "min_height": null,
            "min_width": null,
            "object_fit": null,
            "object_position": null,
            "order": null,
            "overflow": null,
            "overflow_x": null,
            "overflow_y": null,
            "padding": null,
            "right": null,
            "top": null,
            "visibility": null,
            "width": null
          }
        },
        "c663acbc1d154391b9f7aed18fa53f8f": {
          "model_module": "@jupyter-widgets/controls",
          "model_name": "ProgressStyleModel",
          "model_module_version": "1.5.0",
          "state": {
            "_model_module": "@jupyter-widgets/controls",
            "_model_module_version": "1.5.0",
            "_model_name": "ProgressStyleModel",
            "_view_count": null,
            "_view_module": "@jupyter-widgets/base",
            "_view_module_version": "1.2.0",
            "_view_name": "StyleView",
            "bar_color": null,
            "description_width": ""
          }
        },
        "3827856d66aa4fceb21c04a88a4b71c5": {
          "model_module": "@jupyter-widgets/base",
          "model_name": "LayoutModel",
          "model_module_version": "1.2.0",
          "state": {
            "_model_module": "@jupyter-widgets/base",
            "_model_module_version": "1.2.0",
            "_model_name": "LayoutModel",
            "_view_count": null,
            "_view_module": "@jupyter-widgets/base",
            "_view_module_version": "1.2.0",
            "_view_name": "LayoutView",
            "align_content": null,
            "align_items": null,
            "align_self": null,
            "border": null,
            "bottom": null,
            "display": null,
            "flex": null,
            "flex_flow": null,
            "grid_area": null,
            "grid_auto_columns": null,
            "grid_auto_flow": null,
            "grid_auto_rows": null,
            "grid_column": null,
            "grid_gap": null,
            "grid_row": null,
            "grid_template_areas": null,
            "grid_template_columns": null,
            "grid_template_rows": null,
            "height": null,
            "justify_content": null,
            "justify_items": null,
            "left": null,
            "margin": null,
            "max_height": null,
            "max_width": null,
            "min_height": null,
            "min_width": null,
            "object_fit": null,
            "object_position": null,
            "order": null,
            "overflow": null,
            "overflow_x": null,
            "overflow_y": null,
            "padding": null,
            "right": null,
            "top": null,
            "visibility": null,
            "width": null
          }
        },
        "33751af9be36460799a568445c5a78c7": {
          "model_module": "@jupyter-widgets/controls",
          "model_name": "DescriptionStyleModel",
          "model_module_version": "1.5.0",
          "state": {
            "_model_module": "@jupyter-widgets/controls",
            "_model_module_version": "1.5.0",
            "_model_name": "DescriptionStyleModel",
            "_view_count": null,
            "_view_module": "@jupyter-widgets/base",
            "_view_module_version": "1.2.0",
            "_view_name": "StyleView",
            "description_width": ""
          }
        },
        "e58e84d771d14b58807d0ab41b263cb9": {
          "model_module": "@jupyter-widgets/controls",
          "model_name": "HBoxModel",
          "model_module_version": "1.5.0",
          "state": {
            "_dom_classes": [],
            "_model_module": "@jupyter-widgets/controls",
            "_model_module_version": "1.5.0",
            "_model_name": "HBoxModel",
            "_view_count": null,
            "_view_module": "@jupyter-widgets/controls",
            "_view_module_version": "1.5.0",
            "_view_name": "HBoxView",
            "box_style": "",
            "children": [
              "IPY_MODEL_5be8d6d07bb043d585547151d29fa028",
              "IPY_MODEL_a4cf7a943cba4ffc92f6fafaa9af9278",
              "IPY_MODEL_acbe0a9b25d24bde9a4ca09457a8b20f"
            ],
            "layout": "IPY_MODEL_a3ce2035da9346229158546310e18f26"
          }
        },
        "5be8d6d07bb043d585547151d29fa028": {
          "model_module": "@jupyter-widgets/controls",
          "model_name": "HTMLModel",
          "model_module_version": "1.5.0",
          "state": {
            "_dom_classes": [],
            "_model_module": "@jupyter-widgets/controls",
            "_model_module_version": "1.5.0",
            "_model_name": "HTMLModel",
            "_view_count": null,
            "_view_module": "@jupyter-widgets/controls",
            "_view_module_version": "1.5.0",
            "_view_name": "HTMLView",
            "description": "",
            "description_tooltip": null,
            "layout": "IPY_MODEL_9d38003423094866b6b25343e942826a",
            "placeholder": "​",
            "style": "IPY_MODEL_02b045a187b849628d9966f0d42d9005",
            "value": "100%"
          }
        },
        "a4cf7a943cba4ffc92f6fafaa9af9278": {
          "model_module": "@jupyter-widgets/controls",
          "model_name": "FloatProgressModel",
          "model_module_version": "1.5.0",
          "state": {
            "_dom_classes": [],
            "_model_module": "@jupyter-widgets/controls",
            "_model_module_version": "1.5.0",
            "_model_name": "FloatProgressModel",
            "_view_count": null,
            "_view_module": "@jupyter-widgets/controls",
            "_view_module_version": "1.5.0",
            "_view_name": "ProgressView",
            "bar_style": "success",
            "description": "",
            "description_tooltip": null,
            "layout": "IPY_MODEL_91550632522d46b4bb3a570cfd4fc67b",
            "max": 87319819,
            "min": 0,
            "orientation": "horizontal",
            "style": "IPY_MODEL_73cfab3482ac4f35838c95336c9fd5e0",
            "value": 87319819
          }
        },
        "acbe0a9b25d24bde9a4ca09457a8b20f": {
          "model_module": "@jupyter-widgets/controls",
          "model_name": "HTMLModel",
          "model_module_version": "1.5.0",
          "state": {
            "_dom_classes": [],
            "_model_module": "@jupyter-widgets/controls",
            "_model_module_version": "1.5.0",
            "_model_name": "HTMLModel",
            "_view_count": null,
            "_view_module": "@jupyter-widgets/controls",
            "_view_module_version": "1.5.0",
            "_view_name": "HTMLView",
            "description": "",
            "description_tooltip": null,
            "layout": "IPY_MODEL_9378692951904776a584a85181d8a72d",
            "placeholder": "​",
            "style": "IPY_MODEL_95130b9a793d4b46b8fe34f3c001326b",
            "value": " 83.3M/83.3M [00:01&lt;00:00, 169MB/s]"
          }
        },
        "a3ce2035da9346229158546310e18f26": {
          "model_module": "@jupyter-widgets/base",
          "model_name": "LayoutModel",
          "model_module_version": "1.2.0",
          "state": {
            "_model_module": "@jupyter-widgets/base",
            "_model_module_version": "1.2.0",
            "_model_name": "LayoutModel",
            "_view_count": null,
            "_view_module": "@jupyter-widgets/base",
            "_view_module_version": "1.2.0",
            "_view_name": "LayoutView",
            "align_content": null,
            "align_items": null,
            "align_self": null,
            "border": null,
            "bottom": null,
            "display": null,
            "flex": null,
            "flex_flow": null,
            "grid_area": null,
            "grid_auto_columns": null,
            "grid_auto_flow": null,
            "grid_auto_rows": null,
            "grid_column": null,
            "grid_gap": null,
            "grid_row": null,
            "grid_template_areas": null,
            "grid_template_columns": null,
            "grid_template_rows": null,
            "height": null,
            "justify_content": null,
            "justify_items": null,
            "left": null,
            "margin": null,
            "max_height": null,
            "max_width": null,
            "min_height": null,
            "min_width": null,
            "object_fit": null,
            "object_position": null,
            "order": null,
            "overflow": null,
            "overflow_x": null,
            "overflow_y": null,
            "padding": null,
            "right": null,
            "top": null,
            "visibility": null,
            "width": null
          }
        },
        "9d38003423094866b6b25343e942826a": {
          "model_module": "@jupyter-widgets/base",
          "model_name": "LayoutModel",
          "model_module_version": "1.2.0",
          "state": {
            "_model_module": "@jupyter-widgets/base",
            "_model_module_version": "1.2.0",
            "_model_name": "LayoutModel",
            "_view_count": null,
            "_view_module": "@jupyter-widgets/base",
            "_view_module_version": "1.2.0",
            "_view_name": "LayoutView",
            "align_content": null,
            "align_items": null,
            "align_self": null,
            "border": null,
            "bottom": null,
            "display": null,
            "flex": null,
            "flex_flow": null,
            "grid_area": null,
            "grid_auto_columns": null,
            "grid_auto_flow": null,
            "grid_auto_rows": null,
            "grid_column": null,
            "grid_gap": null,
            "grid_row": null,
            "grid_template_areas": null,
            "grid_template_columns": null,
            "grid_template_rows": null,
            "height": null,
            "justify_content": null,
            "justify_items": null,
            "left": null,
            "margin": null,
            "max_height": null,
            "max_width": null,
            "min_height": null,
            "min_width": null,
            "object_fit": null,
            "object_position": null,
            "order": null,
            "overflow": null,
            "overflow_x": null,
            "overflow_y": null,
            "padding": null,
            "right": null,
            "top": null,
            "visibility": null,
            "width": null
          }
        },
        "02b045a187b849628d9966f0d42d9005": {
          "model_module": "@jupyter-widgets/controls",
          "model_name": "DescriptionStyleModel",
          "model_module_version": "1.5.0",
          "state": {
            "_model_module": "@jupyter-widgets/controls",
            "_model_module_version": "1.5.0",
            "_model_name": "DescriptionStyleModel",
            "_view_count": null,
            "_view_module": "@jupyter-widgets/base",
            "_view_module_version": "1.2.0",
            "_view_name": "StyleView",
            "description_width": ""
          }
        },
        "91550632522d46b4bb3a570cfd4fc67b": {
          "model_module": "@jupyter-widgets/base",
          "model_name": "LayoutModel",
          "model_module_version": "1.2.0",
          "state": {
            "_model_module": "@jupyter-widgets/base",
            "_model_module_version": "1.2.0",
            "_model_name": "LayoutModel",
            "_view_count": null,
            "_view_module": "@jupyter-widgets/base",
            "_view_module_version": "1.2.0",
            "_view_name": "LayoutView",
            "align_content": null,
            "align_items": null,
            "align_self": null,
            "border": null,
            "bottom": null,
            "display": null,
            "flex": null,
            "flex_flow": null,
            "grid_area": null,
            "grid_auto_columns": null,
            "grid_auto_flow": null,
            "grid_auto_rows": null,
            "grid_column": null,
            "grid_gap": null,
            "grid_row": null,
            "grid_template_areas": null,
            "grid_template_columns": null,
            "grid_template_rows": null,
            "height": null,
            "justify_content": null,
            "justify_items": null,
            "left": null,
            "margin": null,
            "max_height": null,
            "max_width": null,
            "min_height": null,
            "min_width": null,
            "object_fit": null,
            "object_position": null,
            "order": null,
            "overflow": null,
            "overflow_x": null,
            "overflow_y": null,
            "padding": null,
            "right": null,
            "top": null,
            "visibility": null,
            "width": null
          }
        },
        "73cfab3482ac4f35838c95336c9fd5e0": {
          "model_module": "@jupyter-widgets/controls",
          "model_name": "ProgressStyleModel",
          "model_module_version": "1.5.0",
          "state": {
            "_model_module": "@jupyter-widgets/controls",
            "_model_module_version": "1.5.0",
            "_model_name": "ProgressStyleModel",
            "_view_count": null,
            "_view_module": "@jupyter-widgets/base",
            "_view_module_version": "1.2.0",
            "_view_name": "StyleView",
            "bar_color": null,
            "description_width": ""
          }
        },
        "9378692951904776a584a85181d8a72d": {
          "model_module": "@jupyter-widgets/base",
          "model_name": "LayoutModel",
          "model_module_version": "1.2.0",
          "state": {
            "_model_module": "@jupyter-widgets/base",
            "_model_module_version": "1.2.0",
            "_model_name": "LayoutModel",
            "_view_count": null,
            "_view_module": "@jupyter-widgets/base",
            "_view_module_version": "1.2.0",
            "_view_name": "LayoutView",
            "align_content": null,
            "align_items": null,
            "align_self": null,
            "border": null,
            "bottom": null,
            "display": null,
            "flex": null,
            "flex_flow": null,
            "grid_area": null,
            "grid_auto_columns": null,
            "grid_auto_flow": null,
            "grid_auto_rows": null,
            "grid_column": null,
            "grid_gap": null,
            "grid_row": null,
            "grid_template_areas": null,
            "grid_template_columns": null,
            "grid_template_rows": null,
            "height": null,
            "justify_content": null,
            "justify_items": null,
            "left": null,
            "margin": null,
            "max_height": null,
            "max_width": null,
            "min_height": null,
            "min_width": null,
            "object_fit": null,
            "object_position": null,
            "order": null,
            "overflow": null,
            "overflow_x": null,
            "overflow_y": null,
            "padding": null,
            "right": null,
            "top": null,
            "visibility": null,
            "width": null
          }
        },
        "95130b9a793d4b46b8fe34f3c001326b": {
          "model_module": "@jupyter-widgets/controls",
          "model_name": "DescriptionStyleModel",
          "model_module_version": "1.5.0",
          "state": {
            "_model_module": "@jupyter-widgets/controls",
            "_model_module_version": "1.5.0",
            "_model_name": "DescriptionStyleModel",
            "_view_count": null,
            "_view_module": "@jupyter-widgets/base",
            "_view_module_version": "1.2.0",
            "_view_name": "StyleView",
            "description_width": ""
          }
        },
        "9b0d404f50d1431996e9b9f2c244d53f": {
          "model_module": "@jupyter-widgets/controls",
          "model_name": "HBoxModel",
          "model_module_version": "1.5.0",
          "state": {
            "_dom_classes": [],
            "_model_module": "@jupyter-widgets/controls",
            "_model_module_version": "1.5.0",
            "_model_name": "HBoxModel",
            "_view_count": null,
            "_view_module": "@jupyter-widgets/controls",
            "_view_module_version": "1.5.0",
            "_view_name": "HBoxView",
            "box_style": "",
            "children": [
              "IPY_MODEL_d57fd0982e3744bab35bad37118999be",
              "IPY_MODEL_a5a0847f180f49f294ebaf6adf3257d0",
              "IPY_MODEL_eb97829efe844a13ac19ec53a228b814"
            ],
            "layout": "IPY_MODEL_23227a84d9784a89a10003f0cc05ca04"
          }
        },
        "d57fd0982e3744bab35bad37118999be": {
          "model_module": "@jupyter-widgets/controls",
          "model_name": "HTMLModel",
          "model_module_version": "1.5.0",
          "state": {
            "_dom_classes": [],
            "_model_module": "@jupyter-widgets/controls",
            "_model_module_version": "1.5.0",
            "_model_name": "HTMLModel",
            "_view_count": null,
            "_view_module": "@jupyter-widgets/controls",
            "_view_module_version": "1.5.0",
            "_view_name": "HTMLView",
            "description": "",
            "description_tooltip": null,
            "layout": "IPY_MODEL_2ce306069a4c48fb81b0d9e4860d7942",
            "placeholder": "​",
            "style": "IPY_MODEL_24399bbb3534455e85ce8ebd1c5260b8",
            "value": "100%"
          }
        },
        "a5a0847f180f49f294ebaf6adf3257d0": {
          "model_module": "@jupyter-widgets/controls",
          "model_name": "FloatProgressModel",
          "model_module_version": "1.5.0",
          "state": {
            "_dom_classes": [],
            "_model_module": "@jupyter-widgets/controls",
            "_model_module_version": "1.5.0",
            "_model_name": "FloatProgressModel",
            "_view_count": null,
            "_view_module": "@jupyter-widgets/controls",
            "_view_module_version": "1.5.0",
            "_view_name": "ProgressView",
            "bar_style": "success",
            "description": "",
            "description_tooltip": null,
            "layout": "IPY_MODEL_c44f538611554456a59dd96656801430",
            "max": 32342954,
            "min": 0,
            "orientation": "horizontal",
            "style": "IPY_MODEL_1a2239bd0d4841cdb918295151edb1bc",
            "value": 32342954
          }
        },
        "eb97829efe844a13ac19ec53a228b814": {
          "model_module": "@jupyter-widgets/controls",
          "model_name": "HTMLModel",
          "model_module_version": "1.5.0",
          "state": {
            "_dom_classes": [],
            "_model_module": "@jupyter-widgets/controls",
            "_model_module_version": "1.5.0",
            "_model_name": "HTMLModel",
            "_view_count": null,
            "_view_module": "@jupyter-widgets/controls",
            "_view_module_version": "1.5.0",
            "_view_name": "HTMLView",
            "description": "",
            "description_tooltip": null,
            "layout": "IPY_MODEL_4238dc89580446aa9b9ea03cd0c47138",
            "placeholder": "​",
            "style": "IPY_MODEL_bf973583b96749778507bfbb400a921a",
            "value": " 30.8M/30.8M [00:00&lt;00:00, 59.2MB/s]"
          }
        },
        "23227a84d9784a89a10003f0cc05ca04": {
          "model_module": "@jupyter-widgets/base",
          "model_name": "LayoutModel",
          "model_module_version": "1.2.0",
          "state": {
            "_model_module": "@jupyter-widgets/base",
            "_model_module_version": "1.2.0",
            "_model_name": "LayoutModel",
            "_view_count": null,
            "_view_module": "@jupyter-widgets/base",
            "_view_module_version": "1.2.0",
            "_view_name": "LayoutView",
            "align_content": null,
            "align_items": null,
            "align_self": null,
            "border": null,
            "bottom": null,
            "display": null,
            "flex": null,
            "flex_flow": null,
            "grid_area": null,
            "grid_auto_columns": null,
            "grid_auto_flow": null,
            "grid_auto_rows": null,
            "grid_column": null,
            "grid_gap": null,
            "grid_row": null,
            "grid_template_areas": null,
            "grid_template_columns": null,
            "grid_template_rows": null,
            "height": null,
            "justify_content": null,
            "justify_items": null,
            "left": null,
            "margin": null,
            "max_height": null,
            "max_width": null,
            "min_height": null,
            "min_width": null,
            "object_fit": null,
            "object_position": null,
            "order": null,
            "overflow": null,
            "overflow_x": null,
            "overflow_y": null,
            "padding": null,
            "right": null,
            "top": null,
            "visibility": null,
            "width": null
          }
        },
        "2ce306069a4c48fb81b0d9e4860d7942": {
          "model_module": "@jupyter-widgets/base",
          "model_name": "LayoutModel",
          "model_module_version": "1.2.0",
          "state": {
            "_model_module": "@jupyter-widgets/base",
            "_model_module_version": "1.2.0",
            "_model_name": "LayoutModel",
            "_view_count": null,
            "_view_module": "@jupyter-widgets/base",
            "_view_module_version": "1.2.0",
            "_view_name": "LayoutView",
            "align_content": null,
            "align_items": null,
            "align_self": null,
            "border": null,
            "bottom": null,
            "display": null,
            "flex": null,
            "flex_flow": null,
            "grid_area": null,
            "grid_auto_columns": null,
            "grid_auto_flow": null,
            "grid_auto_rows": null,
            "grid_column": null,
            "grid_gap": null,
            "grid_row": null,
            "grid_template_areas": null,
            "grid_template_columns": null,
            "grid_template_rows": null,
            "height": null,
            "justify_content": null,
            "justify_items": null,
            "left": null,
            "margin": null,
            "max_height": null,
            "max_width": null,
            "min_height": null,
            "min_width": null,
            "object_fit": null,
            "object_position": null,
            "order": null,
            "overflow": null,
            "overflow_x": null,
            "overflow_y": null,
            "padding": null,
            "right": null,
            "top": null,
            "visibility": null,
            "width": null
          }
        },
        "24399bbb3534455e85ce8ebd1c5260b8": {
          "model_module": "@jupyter-widgets/controls",
          "model_name": "DescriptionStyleModel",
          "model_module_version": "1.5.0",
          "state": {
            "_model_module": "@jupyter-widgets/controls",
            "_model_module_version": "1.5.0",
            "_model_name": "DescriptionStyleModel",
            "_view_count": null,
            "_view_module": "@jupyter-widgets/base",
            "_view_module_version": "1.2.0",
            "_view_name": "StyleView",
            "description_width": ""
          }
        },
        "c44f538611554456a59dd96656801430": {
          "model_module": "@jupyter-widgets/base",
          "model_name": "LayoutModel",
          "model_module_version": "1.2.0",
          "state": {
            "_model_module": "@jupyter-widgets/base",
            "_model_module_version": "1.2.0",
            "_model_name": "LayoutModel",
            "_view_count": null,
            "_view_module": "@jupyter-widgets/base",
            "_view_module_version": "1.2.0",
            "_view_name": "LayoutView",
            "align_content": null,
            "align_items": null,
            "align_self": null,
            "border": null,
            "bottom": null,
            "display": null,
            "flex": null,
            "flex_flow": null,
            "grid_area": null,
            "grid_auto_columns": null,
            "grid_auto_flow": null,
            "grid_auto_rows": null,
            "grid_column": null,
            "grid_gap": null,
            "grid_row": null,
            "grid_template_areas": null,
            "grid_template_columns": null,
            "grid_template_rows": null,
            "height": null,
            "justify_content": null,
            "justify_items": null,
            "left": null,
            "margin": null,
            "max_height": null,
            "max_width": null,
            "min_height": null,
            "min_width": null,
            "object_fit": null,
            "object_position": null,
            "order": null,
            "overflow": null,
            "overflow_x": null,
            "overflow_y": null,
            "padding": null,
            "right": null,
            "top": null,
            "visibility": null,
            "width": null
          }
        },
        "1a2239bd0d4841cdb918295151edb1bc": {
          "model_module": "@jupyter-widgets/controls",
          "model_name": "ProgressStyleModel",
          "model_module_version": "1.5.0",
          "state": {
            "_model_module": "@jupyter-widgets/controls",
            "_model_module_version": "1.5.0",
            "_model_name": "ProgressStyleModel",
            "_view_count": null,
            "_view_module": "@jupyter-widgets/base",
            "_view_module_version": "1.2.0",
            "_view_name": "StyleView",
            "bar_color": null,
            "description_width": ""
          }
        },
        "4238dc89580446aa9b9ea03cd0c47138": {
          "model_module": "@jupyter-widgets/base",
          "model_name": "LayoutModel",
          "model_module_version": "1.2.0",
          "state": {
            "_model_module": "@jupyter-widgets/base",
            "_model_module_version": "1.2.0",
            "_model_name": "LayoutModel",
            "_view_count": null,
            "_view_module": "@jupyter-widgets/base",
            "_view_module_version": "1.2.0",
            "_view_name": "LayoutView",
            "align_content": null,
            "align_items": null,
            "align_self": null,
            "border": null,
            "bottom": null,
            "display": null,
            "flex": null,
            "flex_flow": null,
            "grid_area": null,
            "grid_auto_columns": null,
            "grid_auto_flow": null,
            "grid_auto_rows": null,
            "grid_column": null,
            "grid_gap": null,
            "grid_row": null,
            "grid_template_areas": null,
            "grid_template_columns": null,
            "grid_template_rows": null,
            "height": null,
            "justify_content": null,
            "justify_items": null,
            "left": null,
            "margin": null,
            "max_height": null,
            "max_width": null,
            "min_height": null,
            "min_width": null,
            "object_fit": null,
            "object_position": null,
            "order": null,
            "overflow": null,
            "overflow_x": null,
            "overflow_y": null,
            "padding": null,
            "right": null,
            "top": null,
            "visibility": null,
            "width": null
          }
        },
        "bf973583b96749778507bfbb400a921a": {
          "model_module": "@jupyter-widgets/controls",
          "model_name": "DescriptionStyleModel",
          "model_module_version": "1.5.0",
          "state": {
            "_model_module": "@jupyter-widgets/controls",
            "_model_module_version": "1.5.0",
            "_model_name": "DescriptionStyleModel",
            "_view_count": null,
            "_view_module": "@jupyter-widgets/base",
            "_view_module_version": "1.2.0",
            "_view_name": "StyleView",
            "description_width": ""
          }
        }
      }
    }
  },
  "cells": [
    {
      "cell_type": "code",
      "execution_count": 2,
      "metadata": {
        "colab": {
          "base_uri": "https://localhost:8080/"
        },
        "id": "4vcSmlmKNEax",
        "outputId": "5a8acf3e-6077-442b-ebd0-a6bc30a66984"
      },
      "outputs": [
        {
          "output_type": "stream",
          "name": "stdout",
          "text": [
            "Mounted at /content/drive\n"
          ]
        }
      ],
      "source": [
        "import torch.nn as nn\n",
        "import math\n",
        "import torch.utils.model_zoo as model_zoo\n",
        "import torch\n",
        "from torchvision import models\n",
        "import torch.nn.functional as F\n",
        "import matplotlib.pyplot as plt\n",
        "import numpy as np\n",
        "import pandas as pdB\n",
        "from sklearn.metrics import roc_auc_score, auc, roc_curve\n",
        "from torch.utils.data import Dataset\n",
        "from PIL import Image\n",
        "import os\n",
        "from torchvision import datasets, transforms\n",
        "from shutil import rmtree, copytree, copyfile\n",
        "import random\n",
        "import warnings\n",
        "from google.colab import drive\n",
        "drive.mount('/content/drive')\n",
        "warnings.filterwarnings('ignore')"
      ]
    },
    {
      "cell_type": "code",
      "source": [
        "class InceptionV3(nn.Module):\n",
        "  def __init__(self, num_classes = 2):\n",
        "    super(InceptionV3, self).__init__()\n",
        "    model = models.inception_v3(pretrained=True)\n",
        "    self.Conv2d_1a_3x3 = model.Conv2d_1a_3x3\n",
        "    self.Conv2d_2a_3x3 = model.Conv2d_2a_3x3\n",
        "    self.Conv2d_2b_3x3 = model.Conv2d_2b_3x3\n",
        "    self.Conv2d_3b_1x1 = model.Conv2d_3b_1x1\n",
        "    self.Conv2d_4a_3x3 = model.Conv2d_4a_3x3\n",
        "    self.Mixed_5b = model.Mixed_5b\n",
        "    self.Mixed_5c = model.Mixed_5c\n",
        "    self.Mixed_5d = model.Mixed_5d\n",
        "    self.Mixed_6a = model.Mixed_6a\n",
        "    self.Mixed_6b = model.Mixed_6b\n",
        "    self.Mixed_6c = model.Mixed_6c\n",
        "    self.Mixed_6d = model.Mixed_6d\n",
        "    self.Mixed_6e = model.Mixed_6e\n",
        "    self.Mixed_7a = model.Mixed_7a\n",
        "    self.Mixed_7b = model.Mixed_7b\n",
        "    self.Mixed_7c = model.Mixed_7c\n",
        "\n",
        "    self.dropout = nn.Dropout(p=0.5)\n",
        "    self.fc = nn.Linear(2048, num_classes)\n",
        "    self.avgpool = nn.AdaptiveAvgPool2d((1, 1))\n",
        "\n",
        "  def forward(self, x):\n",
        "      features = None\n",
        "      x = nn.Upsample(size=(299, 299), mode='bilinear')(x)\n",
        "      x = self.Conv2d_1a_3x3(x)\n",
        "      x = self.Conv2d_2a_3x3(x)\n",
        "      x = self.Conv2d_2b_3x3(x)\n",
        "      x = F.max_pool2d(x, kernel_size=3, stride=2)\n",
        "      x = self.Conv2d_3b_1x1(x)\n",
        "      x = self.Conv2d_4a_3x3(x)\n",
        "\n",
        "      x = F.max_pool2d(x, kernel_size=3, stride=2)\n",
        "      x = self.Mixed_5b(x)\n",
        "      x = self.Mixed_5c(x)\n",
        "      x = self.Mixed_5d(x)\n",
        "\n",
        "      x = self.Mixed_6a(x)\n",
        "      x = self.Mixed_6b(x)\n",
        "      x = self.Mixed_6c(x)\n",
        "      x = self.Mixed_6d(x)\n",
        "      x = self.Mixed_6e(x)\n",
        "\n",
        "      # image region features\n",
        "      features = x\n",
        "\n",
        "      x = self.Mixed_7a(x)\n",
        "      x = self.Mixed_7b(x)\n",
        "      x = self.Mixed_7c(x)\n",
        "      x = self.avgpool(x)\n",
        "      x = self.dropout(x)\n",
        "      x = x.view(x.size(0), -1)\n",
        "\n",
        "      x = self.fc(x)\n",
        "      return x "
      ],
      "metadata": {
        "id": "t2ln2TcSNXKA"
      },
      "execution_count": 3,
      "outputs": []
    },
    {
      "cell_type": "code",
      "source": [
        "class Resnet34(nn.Module):\n",
        "  def __init__(self, num_classes = 2):\n",
        "    super(Resnet34, self).__init__()\n",
        "    model = models.resnet34(pretrained=True)\n",
        "    self.conv1 = model.conv1\n",
        "    self.bn1 = model.bn1\n",
        "    self.relu = model.relu\n",
        "    self.maxpool = model.maxpool\n",
        "    self.layer1 = model.layer1\n",
        "    self.layer2 = model.layer2\n",
        "    self.layer3 = model.layer3\n",
        "    self.layer4 = model.layer4\n",
        "    self.avgpool = model.avgpool\n",
        "    self.__in_features = model.fc.in_features\n",
        "    self.fc = nn.Linear(512, num_classes)\n",
        "    # self.softmax = nn.Softmax()\n",
        "  def forward(self, x):\n",
        "\n",
        "    x = self.conv1(x)\n",
        "    x = self.bn1(x)\n",
        "    x = self.relu(x)\n",
        "    x = self.maxpool(x)\n",
        "    x = self.layer1(x)\n",
        "    x = self.layer2(x)\n",
        "    x = self.layer3(x)\n",
        "    x = self.layer4(x)\n",
        "    x = self.avgpool(x)\n",
        "    x = x.view(x.size(0), -1)\n",
        "    x = self.fc(x)\n",
        "    # x = self.softmax(x)\n",
        "    return x\n",
        "\n",
        "  def output_num(self):\n",
        "    return self.__in_features"
      ],
      "metadata": {
        "id": "eLbFg4vbNlcp"
      },
      "execution_count": 4,
      "outputs": []
    },
    {
      "cell_type": "code",
      "source": [
        "class Densnet121(nn.Module):\n",
        "  def __init__(self, num_classes = 2):\n",
        "    super(Densnet121, self).__init__()\n",
        "    model = models.densenet121(pretrained=True)\n",
        "    self.features = model.features\n",
        "    self.fc = nn.Linear(1024, num_classes)\n",
        "    self.relu_out = 0\n",
        "\n",
        "  def forward(self, x):\n",
        "    features = self.features(x)\n",
        "    out = F.relu(features, inplace=True)\n",
        "    self.relu_out = out\n",
        "    out = F.avg_pool2d(out, kernel_size=7, stride=1).view(features.size(0), -1)\n",
        "    out = self.fc(out)\n",
        "    return out\n",
        "\n",
        "  def cam_out(self):\n",
        "      return self.relu_out"
      ],
      "metadata": {
        "id": "jCqR57dgNq5p"
      },
      "execution_count": 5,
      "outputs": []
    },
    {
      "cell_type": "code",
      "source": [
        "source_name = \"train\"\n",
        "target_name = \"val\"\n",
        "batch_size = 8\n",
        "epochs = 20\n",
        "lr = 0.01\n",
        "momentum = 0.8\n",
        "no_cuda = False\n",
        "seed = 8\n",
        "log_interval = 10\n",
        "l2_decay = 5e-4\n",
        "random_seed = 80\n",
        "split_train_ratio=0.2\n",
        "path=\"drive/MyDrive/Thyroid\""
      ],
      "metadata": {
        "id": "443quLRyONoW"
      },
      "execution_count": 6,
      "outputs": []
    },
    {
      "cell_type": "code",
      "source": [
        "def split_data():\n",
        "    for name in [source_name, target_name]:\n",
        "        if os.path.exists(os.path.join(path, name)):\n",
        "            rmtree(os.path.join(path, name))\n",
        "            os.makedirs(os.path.join(path, name))\n",
        "        else:\n",
        "            os.makedirs(os.path.join(path, name))\n",
        "\n",
        "    tmp = os.listdir(path)\n",
        "    tmp = [i for i in tmp if i not in [source_name, target_name]]\n",
        "    for properties in tmp:\n",
        "        files = os.listdir(os.path.join(path, properties))\n",
        "        random.seed(random_seed)\n",
        "        random.shuffle(files)\n",
        "        for file in files[: int(len(files) * split_train_ratio)]:\n",
        "            if not os.path.exists(os.path.join(path, 'train', properties)):\n",
        "                os.makedirs(os.path.join(path, 'train', properties))\n",
        "            copyfile(os.path.join(path, properties, file),\n",
        "                     os.path.join(path, 'train', properties, file)\n",
        "                     )\n",
        "        for file in files[int(len(files) * split_train_ratio):]:\n",
        "            if not os.path.exists(os.path.join(path, 'val', properties)):\n",
        "                os.makedirs(os.path.join(path, 'val', properties))\n",
        "            copyfile(os.path.join(path, properties, file),\n",
        "                     os.path.join(path, 'val', properties, file)\n",
        "                     )\n",
        "    print('complete data split')"
      ],
      "metadata": {
        "id": "ZTggAQWtNvpT"
      },
      "execution_count": 7,
      "outputs": []
    },
    {
      "cell_type": "code",
      "source": [
        " split_data()"
      ],
      "metadata": {
        "colab": {
          "base_uri": "https://localhost:8080/"
        },
        "id": "msnbIX0bO6-p",
        "outputId": "2890c2b9-5f95-41bb-a259-ee0d096d8728"
      },
      "execution_count": 8,
      "outputs": [
        {
          "output_type": "stream",
          "name": "stdout",
          "text": [
            "complete data split\n"
          ]
        }
      ]
    },
    {
      "cell_type": "code",
      "source": [
        "import time\n",
        "\n",
        "def train(model, train_dl, val_dl, epochs=100, device='cpu'):\n",
        "\n",
        "\n",
        "    history = {} # Collects per-epoch loss and acc like Keras' fit().\n",
        "    history['loss'] = []\n",
        "    history['val_loss'] = []\n",
        "    history['acc'] = []\n",
        "    history['val_acc'] = []\n",
        "\n",
        "    start_time_sec = time.time()\n",
        "\n",
        "    for epoch in range(1, epochs+1):\n",
        "        LEARNING_RATE = max(lr * (0.1 ** (epochs // 100)), 1e-5)\n",
        "        optimizer = torch.optim.SGD([{'params': model.parameters()}], lr=LEARNING_RATE, momentum=momentum, weight_decay=l2_decay)\n",
        "\n",
        "        # --- TRAIN AND EVALUATE ON TRAINING SET -----------------------------\n",
        "        model.train()\n",
        "        train_loss         = 0.0\n",
        "        num_train_correct  = 0\n",
        "        num_train_examples = 0\n",
        "\n",
        "        for batch in train_dl:\n",
        "\n",
        "            optimizer.zero_grad()\n",
        "\n",
        "            x    = batch[0].to(device)\n",
        "            y    = batch[1].to(device)\n",
        "            yhat = model(x)\n",
        "            optimizer.zero_grad()\n",
        "            loss = F.nll_loss(F.log_softmax(yhat, dim=1), y)\n",
        "\n",
        "            loss.backward()\n",
        "            optimizer.step()\n",
        "\n",
        "            train_loss         += loss.data.item() * x.size(0)\n",
        "            num_train_correct  += (torch.max(yhat, 1)[1] == y).sum().item()\n",
        "            num_train_examples += x.shape[0]\n",
        "\n",
        "        train_acc   = num_train_correct / num_train_examples\n",
        "        train_loss  = train_loss / len(train_dl.dataset)\n",
        "\n",
        "\n",
        "        # --- EVALUATE ON VALIDATION SET -------------------------------------\n",
        "        model.eval()\n",
        "        val_loss       = 0.0\n",
        "        num_val_correct  = 0\n",
        "        num_val_examples = 0\n",
        "\n",
        "        for batch in val_dl:\n",
        "\n",
        "            x    = batch[0].to(device)\n",
        "            y    = batch[1].to(device)\n",
        "            yhat = model(x)\n",
        "            loss=F.nll_loss(F.log_softmax(yhat, dim=1), y, size_average=False)\n",
        "\n",
        "            val_loss         += loss.data.item() * x.size(0)\n",
        "            num_val_correct  += (torch.max(yhat, 1)[1] == y).sum().item()\n",
        "            num_val_examples += y.shape[0]\n",
        "\n",
        "        val_acc  = num_val_correct / num_val_examples\n",
        "        val_loss = val_loss / len(val_dl.dataset)\n",
        "\n",
        "\n",
        "        if epoch == 1 or epoch % 10 == 0:\n",
        "          print('Epoch %3d/%3d, train loss: %5.2f, train acc: %5.2f, val loss: %5.2f, val acc: %5.2f' % \\\n",
        "                (epoch, epochs, train_loss, train_acc, val_loss, val_acc))\n",
        "\n",
        "        history['loss'].append(train_loss)\n",
        "        history['val_loss'].append(val_loss)\n",
        "        history['acc'].append(train_acc)\n",
        "        history['val_acc'].append(val_acc)\n",
        "\n",
        "    # END OF TRAINING LOOP\n",
        "\n",
        "\n",
        "    end_time_sec       = time.time()\n",
        "    total_time_sec     = end_time_sec - start_time_sec\n",
        "    time_per_epoch_sec = total_time_sec / epochs\n",
        "    print()\n",
        "    print('Time total:     %5.2f sec' % (total_time_sec))\n",
        "    print('Time per epoch: %5.2f sec' % (time_per_epoch_sec))\n",
        "\n",
        "    return history\n",
        "\n",
        "def plot_loss(history, model_name):\n",
        "  plt.plot(history['loss'])\n",
        "  plt.plot(history['val_loss'])\n",
        "  plt.title(model_name +' Loss')\n",
        "  plt.ylabel('loss')\n",
        "  plt.xlabel('epoch')\n",
        "  plt.legend(['train', 'val'], loc='upper left')\n",
        "  plt.show()\n",
        "\n",
        "def plot_accuracy(history, model_name):\n",
        "  plt.plot(history['acc'])\n",
        "  plt.plot(history['val_acc'])\n",
        "  plt.title(model_name +' Accuracy')\n",
        "  plt.ylabel('acc')\n",
        "  plt.xlabel('epoch')\n",
        "  plt.legend(['train', 'val'], loc='upper left')\n",
        "  plt.show()"
      ],
      "metadata": {
        "id": "6fvEiTh8PBzf"
      },
      "execution_count": 9,
      "outputs": []
    },
    {
      "cell_type": "code",
      "source": [
        "cuda = not no_cuda and torch.cuda.is_available()\n",
        "torch.manual_seed(seed)\n",
        "if cuda:\n",
        "    torch.cuda.manual_seed(seed)\n",
        "kwargs = {'num_workers': 4, 'pin_memory': True} if cuda else {}"
      ],
      "metadata": {
        "id": "QHnFYy7IPUAS"
      },
      "execution_count": 10,
      "outputs": []
    },
    {
      "cell_type": "code",
      "source": [
        "def load_training(root_path, dir, batch_size, kwargs):\n",
        "    transform = transforms.Compose(\n",
        "        [transforms.Resize([256, 256]),\n",
        "         transforms.RandomRotation(15),\n",
        "         transforms.ColorJitter(),\n",
        "         transforms.RandomCrop(224),\n",
        "         transforms.RandomHorizontalFlip(),\n",
        "         transforms.RandomVerticalFlip(),\n",
        "         transforms.ToTensor()\n",
        "         ])\n",
        "    data = datasets.ImageFolder(root=os.path.join(root_path, dir), transform=transform)\n",
        "    train_loader = torch.utils.data.DataLoader(data, batch_size=batch_size, shuffle=True, drop_last=True, **kwargs)\n",
        "    return train_loader\n",
        "\n",
        "def load_testing(root_path, dir, batch_size, kwargs):\n",
        "\n",
        "    transform = transforms.Compose(\n",
        "        [transforms.Resize([224, 224]),\n",
        "         transforms.ToTensor()])\n",
        "    data = datasets.ImageFolder(root=os.path.join(root_path, dir), transform=transform)\n",
        "    # print(list(data.imgs))\n",
        "    names = list(map(lambda x: os.path.basename(x[0]), list(data.imgs)))\n",
        "    label = list(map(lambda x: x[1], list(data.imgs)))\n",
        "    # print(names, label)\n",
        "    # for name, label in data.imgs:\n",
        "    #     print(name, label)\n",
        "    test_loader = torch.utils.data.DataLoader(data, batch_size=batch_size, shuffle=False, **kwargs)\n",
        "    return test_loader, names, label"
      ],
      "metadata": {
        "id": "6L2vzt_KQGLe"
      },
      "execution_count": 11,
      "outputs": []
    },
    {
      "cell_type": "code",
      "source": [
        "num_classes = len(os.listdir(os.path.join(path, source_name)))\n",
        "source_loader = load_training(path, source_name, batch_size, kwargs)\n",
        "target_test_loader, names, label = load_testing(path, target_name, batch_size, kwargs)\n",
        "\n",
        "len_source_dataset = len(source_loader.dataset)\n",
        "len_target_dataset = len(target_test_loader.dataset)\n",
        "len_source_loader = len(source_loader)"
      ],
      "metadata": {
        "id": "rSYMA9AIPYDl"
      },
      "execution_count": 12,
      "outputs": []
    },
    {
      "cell_type": "code",
      "source": [
        "model_inc = InceptionV3(num_classes=num_classes)\n",
        "model_inc.cuda()\n",
        "history_inc=train(model_inc, source_loader, target_test_loader, epochs=20, device='cuda')"
      ],
      "metadata": {
        "colab": {
          "base_uri": "https://localhost:8080/",
          "height": 171,
          "referenced_widgets": [
            "2ab2ab79058546e5ae6648fc27471629",
            "c657848460904953a1041e1241bbf1d4",
            "131b6ba8ccdf4976988182cc00edf3f3",
            "b64ba5b267bb4de693e6a974ce0f6ab0",
            "563a5ead5c0345389c72a786be7b1414",
            "8c73b76c14b04dc1975487bd01513dda",
            "b836524b0c9946d484fd6e25b2815a5b",
            "ede54270df2148c686cba382e8668f36",
            "c663acbc1d154391b9f7aed18fa53f8f",
            "3827856d66aa4fceb21c04a88a4b71c5",
            "33751af9be36460799a568445c5a78c7"
          ]
        },
        "id": "EDvt7SXYPcII",
        "outputId": "222f6bff-8a96-4db2-b801-9bbc0531bbf4"
      },
      "execution_count": 13,
      "outputs": [
        {
          "output_type": "stream",
          "name": "stderr",
          "text": [
            "Downloading: \"https://download.pytorch.org/models/inception_v3_google-0cc3c7bd.pth\" to /root/.cache/torch/hub/checkpoints/inception_v3_google-0cc3c7bd.pth\n"
          ]
        },
        {
          "output_type": "display_data",
          "data": {
            "text/plain": [
              "  0%|          | 0.00/104M [00:00<?, ?B/s]"
            ],
            "application/vnd.jupyter.widget-view+json": {
              "version_major": 2,
              "version_minor": 0,
              "model_id": "2ab2ab79058546e5ae6648fc27471629"
            }
          },
          "metadata": {}
        },
        {
          "output_type": "stream",
          "name": "stdout",
          "text": [
            "Epoch   1/ 20, train loss:  0.72, train acc:  0.58, val loss:  5.49, val acc:  0.58\n",
            "Epoch  10/ 20, train loss:  0.29, train acc:  0.85, val loss:  6.53, val acc:  0.65\n",
            "Epoch  20/ 20, train loss:  0.13, train acc:  0.96, val loss:  5.53, val acc:  0.73\n",
            "\n",
            "Time total:     64.76 sec\n",
            "Time per epoch:  3.24 sec\n"
          ]
        }
      ]
    },
    {
      "cell_type": "code",
      "source": [
        "model_res=Resnet34(num_classes=num_classes)\n",
        "model_res.cuda()\n",
        "history_res=train(model_res, source_loader, target_test_loader, epochs=20, device='cuda')"
      ],
      "metadata": {
        "colab": {
          "base_uri": "https://localhost:8080/",
          "height": 171,
          "referenced_widgets": [
            "e58e84d771d14b58807d0ab41b263cb9",
            "5be8d6d07bb043d585547151d29fa028",
            "a4cf7a943cba4ffc92f6fafaa9af9278",
            "acbe0a9b25d24bde9a4ca09457a8b20f",
            "a3ce2035da9346229158546310e18f26",
            "9d38003423094866b6b25343e942826a",
            "02b045a187b849628d9966f0d42d9005",
            "91550632522d46b4bb3a570cfd4fc67b",
            "73cfab3482ac4f35838c95336c9fd5e0",
            "9378692951904776a584a85181d8a72d",
            "95130b9a793d4b46b8fe34f3c001326b"
          ]
        },
        "id": "XhYvwpBvPhpe",
        "outputId": "00a0fe34-49ed-44cc-cc31-02d3924df997"
      },
      "execution_count": 14,
      "outputs": [
        {
          "output_type": "stream",
          "name": "stderr",
          "text": [
            "Downloading: \"https://download.pytorch.org/models/resnet34-b627a593.pth\" to /root/.cache/torch/hub/checkpoints/resnet34-b627a593.pth\n"
          ]
        },
        {
          "output_type": "display_data",
          "data": {
            "text/plain": [
              "  0%|          | 0.00/83.3M [00:00<?, ?B/s]"
            ],
            "application/vnd.jupyter.widget-view+json": {
              "version_major": 2,
              "version_minor": 0,
              "model_id": "e58e84d771d14b58807d0ab41b263cb9"
            }
          },
          "metadata": {}
        },
        {
          "output_type": "stream",
          "name": "stdout",
          "text": [
            "Epoch   1/ 20, train loss:  0.70, train acc:  0.62, val loss:  5.37, val acc:  0.63\n",
            "Epoch  10/ 20, train loss:  0.64, train acc:  0.79, val loss: 13.26, val acc:  0.59\n",
            "Epoch  20/ 20, train loss:  0.10, train acc:  0.98, val loss:  6.91, val acc:  0.72\n",
            "\n",
            "Time total:     49.52 sec\n",
            "Time per epoch:  2.48 sec\n"
          ]
        }
      ]
    },
    {
      "cell_type": "code",
      "source": [
        "model_dense=Densnet121(num_classes=num_classes)\n",
        "model_dense.cuda()\n",
        "history_dense=train(model_dense, source_loader, target_test_loader, epochs=20, device='cuda')"
      ],
      "metadata": {
        "colab": {
          "base_uri": "https://localhost:8080/",
          "height": 171,
          "referenced_widgets": [
            "9b0d404f50d1431996e9b9f2c244d53f",
            "d57fd0982e3744bab35bad37118999be",
            "a5a0847f180f49f294ebaf6adf3257d0",
            "eb97829efe844a13ac19ec53a228b814",
            "23227a84d9784a89a10003f0cc05ca04",
            "2ce306069a4c48fb81b0d9e4860d7942",
            "24399bbb3534455e85ce8ebd1c5260b8",
            "c44f538611554456a59dd96656801430",
            "1a2239bd0d4841cdb918295151edb1bc",
            "4238dc89580446aa9b9ea03cd0c47138",
            "bf973583b96749778507bfbb400a921a"
          ]
        },
        "id": "Ci0GU3C8PnZP",
        "outputId": "f23bb4c7-7930-4d62-e688-ac7a1d28c216"
      },
      "execution_count": 15,
      "outputs": [
        {
          "output_type": "stream",
          "name": "stderr",
          "text": [
            "Downloading: \"https://download.pytorch.org/models/densenet121-a639ec97.pth\" to /root/.cache/torch/hub/checkpoints/densenet121-a639ec97.pth\n"
          ]
        },
        {
          "output_type": "display_data",
          "data": {
            "text/plain": [
              "  0%|          | 0.00/30.8M [00:00<?, ?B/s]"
            ],
            "application/vnd.jupyter.widget-view+json": {
              "version_major": 2,
              "version_minor": 0,
              "model_id": "9b0d404f50d1431996e9b9f2c244d53f"
            }
          },
          "metadata": {}
        },
        {
          "output_type": "stream",
          "name": "stdout",
          "text": [
            "Epoch   1/ 20, train loss:  0.85, train acc:  0.46, val loss:  4.95, val acc:  0.61\n",
            "Epoch  10/ 20, train loss:  0.36, train acc:  0.88, val loss: 18.77, val acc:  0.68\n",
            "Epoch  20/ 20, train loss:  0.14, train acc:  0.90, val loss:  7.55, val acc:  0.80\n",
            "\n",
            "Time total:     60.20 sec\n",
            "Time per epoch:  3.01 sec\n"
          ]
        }
      ]
    },
    {
      "cell_type": "code",
      "source": [
        "plot_accuracy(history_inc, 'InceptionV3')\n",
        "plot_loss(history_inc, 'InceptionV3')\n",
        "plot_accuracy(history_res, 'ResNet')\n",
        "plot_loss(history_res, 'ResNet')\n",
        "plot_accuracy(history_dense, 'DenseNet')\n",
        "plot_loss(history_dense, 'DenseNet')"
      ],
      "metadata": {
        "colab": {
          "base_uri": "https://localhost:8080/",
          "height": 1000
        },
        "id": "4HO9CnbuRsLY",
        "outputId": "ab23fb74-c24f-4131-9e37-df8f3e1f6287"
      },
      "execution_count": 16,
      "outputs": [
        {
          "output_type": "display_data",
          "data": {
            "text/plain": [
              "<Figure size 432x288 with 1 Axes>"
            ],
            "image/png": "[encoded data removed]"
          },
          "metadata": {
            "needs_background": "light"
          }
        },
        {
          "output_type": "display_data",
          "data": {
            "text/plain": [
              "<Figure size 432x288 with 1 Axes>"
            ],
            "image/png": "[encoded data removed]"
          },
          "metadata": {
            "needs_background": "light"
          }
        },
        {
          "output_type": "display_data",
          "data": {
            "text/plain": [
              "<Figure size 432x288 with 1 Axes>"
            ],
            "image/png": "[encoded data removed]"
          },
          "metadata": {
            "needs_background": "light"
          }
        },
        {
          "output_type": "display_data",
          "data": {
            "text/plain": [
              "<Figure size 432x288 with 1 Axes>"
            ],
            "image/png": "[encoded data removed]"
          },
          "metadata": {
            "needs_background": "light"
          }
        },
        {
          "output_type": "display_data",
          "data": {
            "text/plain": [
              "<Figure size 432x288 with 1 Axes>"
            ],
            "image/png": "[encoded data removed]"
          },
          "metadata": {
            "needs_background": "light"
          }
        },
        {
          "output_type": "display_data",
          "data": {
            "text/plain": [
              "<Figure size 432x288 with 1 Axes>"
            ],
            "image/png": "[encoded data removed]"
          },
          "metadata": {
            "needs_background": "light"
          }
        }
      ]
    },
    {
      "cell_type": "code",
      "source": [
        "def output(model, data):\n",
        "    model.eval()\n",
        "    s_output = model(data)\n",
        "    M_possibility = float(F.softmax(s_output).data.cpu().numpy()[0][1])\n",
        "    return M_possibility\n",
        "\n",
        "\n",
        "def get_result_by_model(image, model):\n",
        "    result = output(model, image)\n",
        "\n",
        "    if result >= .5:\n",
        "        return 1\n",
        "    else:\n",
        "        return 0\n",
        "\n",
        "def get_result_tirads(image):\n",
        "    result = (.2)*output(model_inc, image)  + (.2)*output(model_res, image) + (.2)*output(model_dense, image)\n",
        "    if result >= 0.35:\n",
        "        return 1\n",
        "    else:\n",
        "        return 0\n",
        "\n",
        "def get_pytorch_image(name):\n",
        "    transform = transforms.Compose(\n",
        "        [transforms.Resize([224, 224]),\n",
        "         transforms.ToTensor()])\n",
        "    image = Image.open(name)\n",
        "    image = image.convert(\"RGB\")\n",
        "    image = transform(image)\n",
        "    image = image.unsqueeze(0)\n",
        "    image = image.cuda()\n",
        "    return image"
      ],
      "metadata": {
        "id": "t1AYYW6mPsSz"
      },
      "execution_count": 17,
      "outputs": []
    },
    {
      "cell_type": "code",
      "source": [
        "test_load, name1, label1 = load_testing(path, 'val', batch_size, kwargs)"
      ],
      "metadata": {
        "id": "-etmlD_dP2U0"
      },
      "execution_count": 18,
      "outputs": []
    },
    {
      "cell_type": "code",
      "source": [
        "pred_label=[]\n",
        "for n,l in zip(name1,label1):\n",
        "  if l==0:\n",
        "    img=path+'/val/0/'+n;\n",
        "  else:\n",
        "    img=path+'/val/1/'+n;\n",
        "  img=get_pytorch_image(img)\n",
        "  temp=get_result_by_model(img, model_inc)\n",
        "  pred_label.append(temp)\n",
        "\n",
        "\n",
        "from sklearn.metrics import accuracy_score,average_precision_score, f1_score,recall_score, precision_score\n",
        "acc=accuracy_score(label1,pred_label)\n",
        "f1=f1_score(label1,pred_label)\n",
        "re=recall_score(label1,pred_label)\n",
        "pre=precision_score(label1,pred_label)\n",
        "\n",
        "print(acc)\n",
        "print(f1)\n",
        "print(re)\n",
        "print(pre)"
      ],
      "metadata": {
        "colab": {
          "base_uri": "https://localhost:8080/"
        },
        "id": "gRJdy1EuPKdD",
        "outputId": "d7a038d9-5d05-4b43-8328-7b67213c63a5"
      },
      "execution_count": 19,
      "outputs": [
        {
          "output_type": "stream",
          "name": "stdout",
          "text": [
            "0.7298578199052133\n",
            "0.6984126984126984\n",
            "0.8048780487804879\n",
            "0.616822429906542\n"
          ]
        }
      ]
    },
    {
      "cell_type": "code",
      "source": [
        "pred_label=[]\n",
        "for n,l in zip(name1,label1):\n",
        "  if l==0:\n",
        "    img=path+'/val/0/'+n;\n",
        "  else:\n",
        "    img=path+'/val/1/'+n;\n",
        "  img=get_pytorch_image(img)\n",
        "  temp=get_result_by_model(img, model_dense)\n",
        "  pred_label.append(temp)\n",
        "\n",
        "from sklearn.metrics import accuracy_score,average_precision_score, f1_score,recall_score, precision_score\n",
        "acc=accuracy_score(label1,pred_label)\n",
        "f1=f1_score(label1,pred_label)\n",
        "re=recall_score(label1,pred_label)\n",
        "pre=precision_score(label1,pred_label)\n",
        "\n",
        "print(acc)\n",
        "print(f1)\n",
        "print(re)\n",
        "print(pre)"
      ],
      "metadata": {
        "colab": {
          "base_uri": "https://localhost:8080/"
        },
        "id": "VtYj940EUyLl",
        "outputId": "c844b71b-7737-434b-e8d0-71e349e509c4"
      },
      "execution_count": 21,
      "outputs": [
        {
          "output_type": "stream",
          "name": "stdout",
          "text": [
            "0.7962085308056872\n",
            "0.7361963190184049\n",
            "0.7317073170731707\n",
            "0.7407407407407407\n"
          ]
        }
      ]
    },
    {
      "cell_type": "code",
      "source": [
        "pred_label=[]\n",
        "for n,l in zip(name1,label1):\n",
        "  if l==0:\n",
        "    img=path+'/val/0/'+n;\n",
        "  else:\n",
        "    img=path+'/val/1/'+n;\n",
        "  img=get_pytorch_image(img)\n",
        "  temp=get_result_by_model(img, model_res)\n",
        "  pred_label.append(temp)\n",
        "\n",
        "from sklearn.metrics import accuracy_score,average_precision_score, f1_score,recall_score, precision_score\n",
        "acc=accuracy_score(label1,pred_label)\n",
        "f1=f1_score(label1,pred_label)\n",
        "re=recall_score(label1,pred_label)\n",
        "pre=precision_score(label1,pred_label)\n",
        "\n",
        "print(acc)\n",
        "print(f1)\n",
        "print(re)\n",
        "print(pre)"
      ],
      "metadata": {
        "colab": {
          "base_uri": "https://localhost:8080/"
        },
        "id": "lOT2jQ6KU9rT",
        "outputId": "7b3b4c34-4a8a-4461-c666-0a8f8d653ede"
      },
      "execution_count": 22,
      "outputs": [
        {
          "output_type": "stream",
          "name": "stdout",
          "text": [
            "0.7203791469194313\n",
            "0.5815602836879433\n",
            "0.5\n",
            "0.6949152542372882\n"
          ]
        }
      ]
    }
  ]
}